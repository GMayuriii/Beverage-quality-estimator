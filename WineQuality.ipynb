{
 "cells": [
  {
   "cell_type": "markdown",
   "id": "371efc5a",
   "metadata": {},
   "source": [
    "# Importing Dependencies"
   ]
  },
  {
   "cell_type": "code",
   "execution_count": 124,
   "id": "a087924a",
   "metadata": {},
   "outputs": [],
   "source": [
    "import numpy as np\n",
    "import pandas as pd\n",
    "import matplotlib.pyplot as plt\n",
    "import seaborn as sns\n",
    "%matplotlib inline"
   ]
  },
  {
   "cell_type": "markdown",
   "id": "9f03a654",
   "metadata": {},
   "source": [
    "# 1. Problem Statement"
   ]
  },
  {
   "cell_type": "raw",
   "id": "d394e231",
   "metadata": {},
   "source": [
    "To group wine as either good or bad using physiochemical properties as estimators"
   ]
  },
  {
   "cell_type": "markdown",
   "id": "225df3cf",
   "metadata": {},
   "source": [
    "# 2. Data Gathering"
   ]
  },
  {
   "cell_type": "code",
   "execution_count": 125,
   "id": "b07875e2",
   "metadata": {},
   "outputs": [
    {
     "name": "stdout",
     "output_type": "stream",
     "text": [
      "No. of Rows :  1599\n",
      "No. of Columns :  12\n",
      "Sample of data:\n"
     ]
    },
    {
     "data": {
      "text/html": [
       "<div>\n",
       "<style scoped>\n",
       "    .dataframe tbody tr th:only-of-type {\n",
       "        vertical-align: middle;\n",
       "    }\n",
       "\n",
       "    .dataframe tbody tr th {\n",
       "        vertical-align: top;\n",
       "    }\n",
       "\n",
       "    .dataframe thead th {\n",
       "        text-align: right;\n",
       "    }\n",
       "</style>\n",
       "<table border=\"1\" class=\"dataframe\">\n",
       "  <thead>\n",
       "    <tr style=\"text-align: right;\">\n",
       "      <th></th>\n",
       "      <th>fixed acidity</th>\n",
       "      <th>volatile acidity</th>\n",
       "      <th>citric acid</th>\n",
       "      <th>residual sugar</th>\n",
       "      <th>chlorides</th>\n",
       "      <th>free sulfur dioxide</th>\n",
       "      <th>total sulfur dioxide</th>\n",
       "      <th>density</th>\n",
       "      <th>pH</th>\n",
       "      <th>sulphates</th>\n",
       "      <th>alcohol</th>\n",
       "      <th>quality</th>\n",
       "    </tr>\n",
       "  </thead>\n",
       "  <tbody>\n",
       "    <tr>\n",
       "      <th>933</th>\n",
       "      <td>7.4</td>\n",
       "      <td>0.610</td>\n",
       "      <td>0.01</td>\n",
       "      <td>2.0</td>\n",
       "      <td>0.074</td>\n",
       "      <td>13.0</td>\n",
       "      <td>38.0</td>\n",
       "      <td>0.99748</td>\n",
       "      <td>3.48</td>\n",
       "      <td>0.65</td>\n",
       "      <td>9.8</td>\n",
       "      <td>5</td>\n",
       "    </tr>\n",
       "    <tr>\n",
       "      <th>137</th>\n",
       "      <td>7.2</td>\n",
       "      <td>0.415</td>\n",
       "      <td>0.36</td>\n",
       "      <td>2.0</td>\n",
       "      <td>0.081</td>\n",
       "      <td>13.0</td>\n",
       "      <td>45.0</td>\n",
       "      <td>0.99720</td>\n",
       "      <td>3.48</td>\n",
       "      <td>0.64</td>\n",
       "      <td>9.2</td>\n",
       "      <td>5</td>\n",
       "    </tr>\n",
       "    <tr>\n",
       "      <th>268</th>\n",
       "      <td>6.9</td>\n",
       "      <td>0.540</td>\n",
       "      <td>0.04</td>\n",
       "      <td>3.0</td>\n",
       "      <td>0.077</td>\n",
       "      <td>7.0</td>\n",
       "      <td>27.0</td>\n",
       "      <td>0.99870</td>\n",
       "      <td>3.69</td>\n",
       "      <td>0.91</td>\n",
       "      <td>9.4</td>\n",
       "      <td>6</td>\n",
       "    </tr>\n",
       "    <tr>\n",
       "      <th>1476</th>\n",
       "      <td>9.9</td>\n",
       "      <td>0.500</td>\n",
       "      <td>0.50</td>\n",
       "      <td>13.8</td>\n",
       "      <td>0.205</td>\n",
       "      <td>48.0</td>\n",
       "      <td>82.0</td>\n",
       "      <td>1.00242</td>\n",
       "      <td>3.16</td>\n",
       "      <td>0.75</td>\n",
       "      <td>8.8</td>\n",
       "      <td>5</td>\n",
       "    </tr>\n",
       "    <tr>\n",
       "      <th>979</th>\n",
       "      <td>12.2</td>\n",
       "      <td>0.450</td>\n",
       "      <td>0.49</td>\n",
       "      <td>1.4</td>\n",
       "      <td>0.075</td>\n",
       "      <td>3.0</td>\n",
       "      <td>6.0</td>\n",
       "      <td>0.99690</td>\n",
       "      <td>3.13</td>\n",
       "      <td>0.63</td>\n",
       "      <td>10.4</td>\n",
       "      <td>5</td>\n",
       "    </tr>\n",
       "  </tbody>\n",
       "</table>\n",
       "</div>"
      ],
      "text/plain": [
       "      fixed acidity  volatile acidity  citric acid  residual sugar  chlorides  \\\n",
       "933             7.4             0.610         0.01             2.0      0.074   \n",
       "137             7.2             0.415         0.36             2.0      0.081   \n",
       "268             6.9             0.540         0.04             3.0      0.077   \n",
       "1476            9.9             0.500         0.50            13.8      0.205   \n",
       "979            12.2             0.450         0.49             1.4      0.075   \n",
       "\n",
       "      free sulfur dioxide  total sulfur dioxide  density    pH  sulphates  \\\n",
       "933                  13.0                  38.0  0.99748  3.48       0.65   \n",
       "137                  13.0                  45.0  0.99720  3.48       0.64   \n",
       "268                   7.0                  27.0  0.99870  3.69       0.91   \n",
       "1476                 48.0                  82.0  1.00242  3.16       0.75   \n",
       "979                   3.0                   6.0  0.99690  3.13       0.63   \n",
       "\n",
       "      alcohol  quality  \n",
       "933       9.8        5  \n",
       "137       9.2        5  \n",
       "268       9.4        6  \n",
       "1476      8.8        5  \n",
       "979      10.4        5  "
      ]
     },
     "execution_count": 125,
     "metadata": {},
     "output_type": "execute_result"
    }
   ],
   "source": [
    "data=pd.read_csv(\"winequality-red.csv\")\n",
    "print(\"No. of Rows : \",data.shape[0])\n",
    "print(\"No. of Columns : \",data.shape[1])\n",
    "print(\"Sample of data:\")\n",
    "data.sample(5)"
   ]
  },
  {
   "cell_type": "code",
   "execution_count": 126,
   "id": "11199a94",
   "metadata": {},
   "outputs": [
    {
     "name": "stdout",
     "output_type": "stream",
     "text": [
      "fixed acidity           0\n",
      "volatile acidity        0\n",
      "citric acid             0\n",
      "residual sugar          0\n",
      "chlorides               0\n",
      "free sulfur dioxide     0\n",
      "total sulfur dioxide    0\n",
      "density                 0\n",
      "pH                      0\n",
      "sulphates               0\n",
      "alcohol                 0\n",
      "quality                 0\n",
      "dtype: int64\n"
     ]
    }
   ],
   "source": [
    "print(data.isna().sum())"
   ]
  },
  {
   "cell_type": "markdown",
   "id": "71e4b161",
   "metadata": {},
   "source": [
    "# 3. Explatory Data Analysis"
   ]
  },
  {
   "cell_type": "markdown",
   "id": "734c5ef0-c8d5-4537-80ce-f855103403e0",
   "metadata": {},
   "source": [
    "## 3.1 Descriptive Statistics"
   ]
  },
  {
   "cell_type": "code",
   "execution_count": 127,
   "id": "96a7a7b7",
   "metadata": {},
   "outputs": [
    {
     "data": {
      "text/plain": [
       "['fixed acidity',\n",
       " 'volatile acidity',\n",
       " 'citric acid',\n",
       " 'residual sugar',\n",
       " 'chlorides',\n",
       " 'free sulfur dioxide',\n",
       " 'total sulfur dioxide',\n",
       " 'density',\n",
       " 'pH',\n",
       " 'sulphates',\n",
       " 'alcohol',\n",
       " 'quality']"
      ]
     },
     "execution_count": 127,
     "metadata": {},
     "output_type": "execute_result"
    }
   ],
   "source": [
    "data.columns.tolist() #Checking Columns"
   ]
  },
  {
   "cell_type": "code",
   "execution_count": 128,
   "id": "9eea97c2",
   "metadata": {},
   "outputs": [
    {
     "data": {
      "text/html": [
       "<div>\n",
       "<style scoped>\n",
       "    .dataframe tbody tr th:only-of-type {\n",
       "        vertical-align: middle;\n",
       "    }\n",
       "\n",
       "    .dataframe tbody tr th {\n",
       "        vertical-align: top;\n",
       "    }\n",
       "\n",
       "    .dataframe thead th {\n",
       "        text-align: right;\n",
       "    }\n",
       "</style>\n",
       "<table border=\"1\" class=\"dataframe\">\n",
       "  <thead>\n",
       "    <tr style=\"text-align: right;\">\n",
       "      <th></th>\n",
       "      <th>fixed acidity</th>\n",
       "      <th>volatile acidity</th>\n",
       "      <th>citric acid</th>\n",
       "      <th>residual sugar</th>\n",
       "      <th>chlorides</th>\n",
       "      <th>free sulfur dioxide</th>\n",
       "      <th>total sulfur dioxide</th>\n",
       "      <th>density</th>\n",
       "      <th>pH</th>\n",
       "      <th>sulphates</th>\n",
       "      <th>alcohol</th>\n",
       "      <th>quality</th>\n",
       "    </tr>\n",
       "  </thead>\n",
       "  <tbody>\n",
       "    <tr>\n",
       "      <th>count</th>\n",
       "      <td>1599.000000</td>\n",
       "      <td>1599.000000</td>\n",
       "      <td>1599.000000</td>\n",
       "      <td>1599.000000</td>\n",
       "      <td>1599.000000</td>\n",
       "      <td>1599.000000</td>\n",
       "      <td>1599.000000</td>\n",
       "      <td>1599.000000</td>\n",
       "      <td>1599.000000</td>\n",
       "      <td>1599.000000</td>\n",
       "      <td>1599.000000</td>\n",
       "      <td>1599.000000</td>\n",
       "    </tr>\n",
       "    <tr>\n",
       "      <th>mean</th>\n",
       "      <td>8.319637</td>\n",
       "      <td>0.527821</td>\n",
       "      <td>0.270976</td>\n",
       "      <td>2.538806</td>\n",
       "      <td>0.087467</td>\n",
       "      <td>15.874922</td>\n",
       "      <td>46.467792</td>\n",
       "      <td>0.996747</td>\n",
       "      <td>3.311113</td>\n",
       "      <td>0.658149</td>\n",
       "      <td>10.422983</td>\n",
       "      <td>5.636023</td>\n",
       "    </tr>\n",
       "    <tr>\n",
       "      <th>std</th>\n",
       "      <td>1.741096</td>\n",
       "      <td>0.179060</td>\n",
       "      <td>0.194801</td>\n",
       "      <td>1.409928</td>\n",
       "      <td>0.047065</td>\n",
       "      <td>10.460157</td>\n",
       "      <td>32.895324</td>\n",
       "      <td>0.001887</td>\n",
       "      <td>0.154386</td>\n",
       "      <td>0.169507</td>\n",
       "      <td>1.065668</td>\n",
       "      <td>0.807569</td>\n",
       "    </tr>\n",
       "    <tr>\n",
       "      <th>min</th>\n",
       "      <td>4.600000</td>\n",
       "      <td>0.120000</td>\n",
       "      <td>0.000000</td>\n",
       "      <td>0.900000</td>\n",
       "      <td>0.012000</td>\n",
       "      <td>1.000000</td>\n",
       "      <td>6.000000</td>\n",
       "      <td>0.990070</td>\n",
       "      <td>2.740000</td>\n",
       "      <td>0.330000</td>\n",
       "      <td>8.400000</td>\n",
       "      <td>3.000000</td>\n",
       "    </tr>\n",
       "    <tr>\n",
       "      <th>25%</th>\n",
       "      <td>7.100000</td>\n",
       "      <td>0.390000</td>\n",
       "      <td>0.090000</td>\n",
       "      <td>1.900000</td>\n",
       "      <td>0.070000</td>\n",
       "      <td>7.000000</td>\n",
       "      <td>22.000000</td>\n",
       "      <td>0.995600</td>\n",
       "      <td>3.210000</td>\n",
       "      <td>0.550000</td>\n",
       "      <td>9.500000</td>\n",
       "      <td>5.000000</td>\n",
       "    </tr>\n",
       "    <tr>\n",
       "      <th>50%</th>\n",
       "      <td>7.900000</td>\n",
       "      <td>0.520000</td>\n",
       "      <td>0.260000</td>\n",
       "      <td>2.200000</td>\n",
       "      <td>0.079000</td>\n",
       "      <td>14.000000</td>\n",
       "      <td>38.000000</td>\n",
       "      <td>0.996750</td>\n",
       "      <td>3.310000</td>\n",
       "      <td>0.620000</td>\n",
       "      <td>10.200000</td>\n",
       "      <td>6.000000</td>\n",
       "    </tr>\n",
       "    <tr>\n",
       "      <th>75%</th>\n",
       "      <td>9.200000</td>\n",
       "      <td>0.640000</td>\n",
       "      <td>0.420000</td>\n",
       "      <td>2.600000</td>\n",
       "      <td>0.090000</td>\n",
       "      <td>21.000000</td>\n",
       "      <td>62.000000</td>\n",
       "      <td>0.997835</td>\n",
       "      <td>3.400000</td>\n",
       "      <td>0.730000</td>\n",
       "      <td>11.100000</td>\n",
       "      <td>6.000000</td>\n",
       "    </tr>\n",
       "    <tr>\n",
       "      <th>max</th>\n",
       "      <td>15.900000</td>\n",
       "      <td>1.580000</td>\n",
       "      <td>1.000000</td>\n",
       "      <td>15.500000</td>\n",
       "      <td>0.611000</td>\n",
       "      <td>72.000000</td>\n",
       "      <td>289.000000</td>\n",
       "      <td>1.003690</td>\n",
       "      <td>4.010000</td>\n",
       "      <td>2.000000</td>\n",
       "      <td>14.900000</td>\n",
       "      <td>8.000000</td>\n",
       "    </tr>\n",
       "  </tbody>\n",
       "</table>\n",
       "</div>"
      ],
      "text/plain": [
       "       fixed acidity  volatile acidity  citric acid  residual sugar  \\\n",
       "count    1599.000000       1599.000000  1599.000000     1599.000000   \n",
       "mean        8.319637          0.527821     0.270976        2.538806   \n",
       "std         1.741096          0.179060     0.194801        1.409928   \n",
       "min         4.600000          0.120000     0.000000        0.900000   \n",
       "25%         7.100000          0.390000     0.090000        1.900000   \n",
       "50%         7.900000          0.520000     0.260000        2.200000   \n",
       "75%         9.200000          0.640000     0.420000        2.600000   \n",
       "max        15.900000          1.580000     1.000000       15.500000   \n",
       "\n",
       "         chlorides  free sulfur dioxide  total sulfur dioxide      density  \\\n",
       "count  1599.000000          1599.000000           1599.000000  1599.000000   \n",
       "mean      0.087467            15.874922             46.467792     0.996747   \n",
       "std       0.047065            10.460157             32.895324     0.001887   \n",
       "min       0.012000             1.000000              6.000000     0.990070   \n",
       "25%       0.070000             7.000000             22.000000     0.995600   \n",
       "50%       0.079000            14.000000             38.000000     0.996750   \n",
       "75%       0.090000            21.000000             62.000000     0.997835   \n",
       "max       0.611000            72.000000            289.000000     1.003690   \n",
       "\n",
       "                pH    sulphates      alcohol      quality  \n",
       "count  1599.000000  1599.000000  1599.000000  1599.000000  \n",
       "mean      3.311113     0.658149    10.422983     5.636023  \n",
       "std       0.154386     0.169507     1.065668     0.807569  \n",
       "min       2.740000     0.330000     8.400000     3.000000  \n",
       "25%       3.210000     0.550000     9.500000     5.000000  \n",
       "50%       3.310000     0.620000    10.200000     6.000000  \n",
       "75%       3.400000     0.730000    11.100000     6.000000  \n",
       "max       4.010000     2.000000    14.900000     8.000000  "
      ]
     },
     "execution_count": 128,
     "metadata": {},
     "output_type": "execute_result"
    }
   ],
   "source": [
    "data.describe() #Descriptive Statistics"
   ]
  },
  {
   "cell_type": "code",
   "execution_count": 129,
   "id": "7eb6dc3c",
   "metadata": {},
   "outputs": [
    {
     "name": "stdout",
     "output_type": "stream",
     "text": [
      "<class 'pandas.core.frame.DataFrame'>\n",
      "RangeIndex: 1599 entries, 0 to 1598\n",
      "Data columns (total 12 columns):\n",
      " #   Column                Non-Null Count  Dtype  \n",
      "---  ------                --------------  -----  \n",
      " 0   fixed acidity         1599 non-null   float64\n",
      " 1   volatile acidity      1599 non-null   float64\n",
      " 2   citric acid           1599 non-null   float64\n",
      " 3   residual sugar        1599 non-null   float64\n",
      " 4   chlorides             1599 non-null   float64\n",
      " 5   free sulfur dioxide   1599 non-null   float64\n",
      " 6   total sulfur dioxide  1599 non-null   float64\n",
      " 7   density               1599 non-null   float64\n",
      " 8   pH                    1599 non-null   float64\n",
      " 9   sulphates             1599 non-null   float64\n",
      " 10  alcohol               1599 non-null   float64\n",
      " 11  quality               1599 non-null   int64  \n",
      "dtypes: float64(11), int64(1)\n",
      "memory usage: 150.0 KB\n"
     ]
    }
   ],
   "source": [
    "data.info()"
   ]
  },
  {
   "cell_type": "markdown",
   "id": "312765a0-90c1-4101-8678-3e99cbd0b4a3",
   "metadata": {},
   "source": [
    "## 3.2 Missing data"
   ]
  },
  {
   "cell_type": "code",
   "execution_count": 130,
   "id": "e5dc0457",
   "metadata": {},
   "outputs": [
    {
     "data": {
      "text/plain": [
       "fixed acidity           0\n",
       "volatile acidity        0\n",
       "citric acid             0\n",
       "residual sugar          0\n",
       "chlorides               0\n",
       "free sulfur dioxide     0\n",
       "total sulfur dioxide    0\n",
       "density                 0\n",
       "pH                      0\n",
       "sulphates               0\n",
       "alcohol                 0\n",
       "quality                 0\n",
       "dtype: int64"
      ]
     },
     "execution_count": 130,
     "metadata": {},
     "output_type": "execute_result"
    }
   ],
   "source": [
    "data.isnull().sum() "
   ]
  },
  {
   "cell_type": "raw",
   "id": "178e195e-829b-4b67-ae18-84be0ce5b298",
   "metadata": {},
   "source": [
    "We do not have nay missing value. If we did, we would have filled in those values using suitable statistical methods."
   ]
  },
  {
   "cell_type": "markdown",
   "id": "4f976aee",
   "metadata": {},
   "source": [
    "## 3.3 Data Visuilization"
   ]
  },
  {
   "cell_type": "code",
   "execution_count": 131,
   "id": "4e112c0d",
   "metadata": {},
   "outputs": [
    {
     "data": {
      "text/plain": [
       "<AxesSubplot:xlabel='quality', ylabel='count'>"
      ]
     },
     "execution_count": 131,
     "metadata": {},
     "output_type": "execute_result"
    },
    {
     "data": {
      "image/png": "[encoded data removed]",
      "text/plain": [
       "<Figure size 432x288 with 1 Axes>"
      ]
     },
     "metadata": {
      "needs_background": "light"
     },
     "output_type": "display_data"
    }
   ],
   "source": [
    "sns.countplot(x='quality',data=data) #Distribution of target variable"
   ]
  },
  {
   "cell_type": "raw",
   "id": "1d8adbf4-c7c7-47e0-8dc6-3a684884cb4e",
   "metadata": {},
   "source": [
    "We can see average quality wine has the most occuring"
   ]
  },
  {
   "cell_type": "code",
   "execution_count": 132,
   "id": "1ac78cdc",
   "metadata": {},
   "outputs": [
    {
     "data": {
      "text/plain": [
       "<AxesSubplot:>"
      ]
     },
     "execution_count": 132,
     "metadata": {},
     "output_type": "execute_result"
    },
    {
     "data": {
      "image/png": "[encoded data removed]",
      "text/plain": [
       "<Figure size 1440x720 with 2 Axes>"
      ]
     },
     "metadata": {
      "needs_background": "light"
     },
     "output_type": "display_data"
    }
   ],
   "source": [
    "plt.figure(figsize = (20,10))\n",
    "sns.heatmap(data.corr(),annot = True)"
   ]
  },
  {
   "cell_type": "code",
   "execution_count": 133,
   "id": "79e04be1",
   "metadata": {},
   "outputs": [
    {
     "data": {
      "text/plain": [
       "quality                 1.000000\n",
       "alcohol                 0.476166\n",
       "sulphates               0.251397\n",
       "citric acid             0.226373\n",
       "fixed acidity           0.124052\n",
       "residual sugar          0.013732\n",
       "free sulfur dioxide    -0.050656\n",
       "pH                     -0.057731\n",
       "chlorides              -0.128907\n",
       "density                -0.174919\n",
       "total sulfur dioxide   -0.185100\n",
       "volatile acidity       -0.390558\n",
       "Name: quality, dtype: float64"
      ]
     },
     "execution_count": 133,
     "metadata": {},
     "output_type": "execute_result"
    }
   ],
   "source": [
    "data.corr()['quality'].sort_values(ascending=False)"
   ]
  },
  {
   "cell_type": "code",
   "execution_count": 134,
   "id": "14cf1517",
   "metadata": {},
   "outputs": [
    {
     "data": {
      "image/png": "[encoded data removed]",
      "text/plain": [
       "<Figure size 1080x720 with 11 Axes>"
      ]
     },
     "metadata": {
      "needs_background": "light"
     },
     "output_type": "display_data"
    }
   ],
   "source": [
    "fig = plt.figure(figsize=(15,10))\n",
    "plt.subplot(3,4,1)\n",
    "sns.barplot(x='quality',y='fixed acidity',data=data)\n",
    "plt.subplot(3,4,2)\n",
    "sns.barplot(x='quality',y='volatile acidity',data=data)\n",
    "plt.subplot(3,4,3)\n",
    "sns.barplot(x='quality',y='citric acid',data=data)\n",
    "plt.subplot(3,4,4)\n",
    "sns.barplot(x='quality',y='residual sugar',data=data)\n",
    "plt.subplot(3,4,5)\n",
    "sns.barplot(x='quality',y='chlorides',data=data)\n",
    "plt.subplot(3,4,6)\n",
    "sns.barplot(x='quality',y='free sulfur dioxide',data=data)\n",
    "plt.subplot(3,4,7)\n",
    "sns.barplot(x='quality',y='total sulfur dioxide',data=data)\n",
    "plt.subplot(3,4,8)\n",
    "sns.barplot(x='quality',y='density',data=data)\n",
    "plt.subplot(3,4,9)\n",
    "sns.barplot(x='quality',y='pH',data=data)\n",
    "plt.subplot(3,4,10)\n",
    "sns.barplot(x='quality',y='sulphates',data=data)\n",
    "plt.subplot(3,4,11)\n",
    "sns.barplot(x='quality',y='alcohol',data=data)\n",
    "plt.tight_layout()"
   ]
  },
  {
   "cell_type": "raw",
   "id": "91438ea7",
   "metadata": {},
   "source": [
    "We can infer from the graphs:\n",
    "1. Both good and bad quailty wine has almost same fixed acidity.\n",
    "2. Wine with more volatile acidity is considered poor\n",
    "3. Good quality wine has more citric acid\n",
    "4. All wine qualities has almost simialr residue sugar.\n",
    "5. Poor quality wine has almost twice the volume of chlride than good quality wine.\n",
    "6. Average quality wine has most cncentration of free sulpher dioxide\n",
    "7. Total Sulpher Dioxide is in highest concentration in average quality wine\n",
    "8. Density and pH of all wine qualities is the nearabout the same.\n",
    "9. Good quality wine has comperatively hiher proportion of sulphates and alchol in it."
   ]
  },
  {
   "cell_type": "markdown",
   "id": "60f83158-4c20-4103-9e9e-5330702d2a21",
   "metadata": {},
   "source": [
    "# 4 Feature Engineering"
   ]
  },
  {
   "cell_type": "markdown",
   "id": "ad3b6409-385a-4035-8649-df4c064740ce",
   "metadata": {},
   "source": [
    "## 4.1 Checking for Outliers"
   ]
  },
  {
   "cell_type": "code",
   "execution_count": 135,
   "id": "4d55e678",
   "metadata": {},
   "outputs": [
    {
     "data": {
      "image/png": "[encoded data removed]",
      "text/plain": [
       "<Figure size 1080x720 with 12 Axes>"
      ]
     },
     "metadata": {
      "needs_background": "light"
     },
     "output_type": "display_data"
    }
   ],
   "source": [
    "fig,axis=plt.subplots(ncols=4,nrows=3,figsize=(15,10))\n",
    "index=0\n",
    "axis=axis.flatten()\n",
    "\n",
    "for col,values in data.items():\n",
    "    sns.boxplot(y=col,data=data,color='r',ax=axis[index])\n",
    "    index+=1\n",
    "plt.tight_layout(pad=0.5,w_pad=0.7,h_pad=5.0)"
   ]
  },
  {
   "cell_type": "markdown",
   "id": "06261a3e-da3d-4e6e-9fc1-c26e4f8116ef",
   "metadata": {},
   "source": [
    "## 4.2 Removing Outliers"
   ]
  },
  {
   "cell_type": "code",
   "execution_count": 136,
   "id": "24a1b547-7099-4445-bf6a-e11ed68f2baa",
   "metadata": {},
   "outputs": [],
   "source": [
    "import warnings as wr\n",
    "wr.filterwarnings('ignore')"
   ]
  },
  {
   "cell_type": "code",
   "execution_count": 137,
   "id": "a4a41773",
   "metadata": {},
   "outputs": [],
   "source": [
    "def outlier(data):\n",
    "    df1=data.copy()\n",
    "    data=data._get_numeric_data()\n",
    "    q1=data.quantile(0.25)\n",
    "    q3=data.quantile(0.75)\n",
    "    iqr=q3-q1\n",
    "    lower_bound=q1-(1.5*iqr)\n",
    "    upper_bound=q3+(1.5*iqr)\n",
    "    \n",
    "    for col in data.columns:\n",
    "        for i in range(0,len(data[col])):\n",
    "            if data[col][i] < lower_bound[col]:\n",
    "                data[col][i] = lower_bound[col]\n",
    "                \n",
    "            if data[col][i] > upper_bound[col]:\n",
    "                data[col][i] = upper_bound[col]\n",
    "    \n",
    "    for col in data.columns:\n",
    "        df1[col]=data[col]\n",
    "        \n",
    "    return(df1)\n",
    "\n",
    "df=outlier(data)"
   ]
  },
  {
   "cell_type": "code",
   "execution_count": 138,
   "id": "a8d66a49",
   "metadata": {},
   "outputs": [
    {
     "data": {
      "image/png": "[encoded data removed]",
      "text/plain": [
       "<Figure size 1080x720 with 12 Axes>"
      ]
     },
     "metadata": {
      "needs_background": "light"
     },
     "output_type": "display_data"
    }
   ],
   "source": [
    "#Data after outlier removal\n",
    "fig,axis=plt.subplots(ncols=4,nrows=3,figsize=(15,10))\n",
    "index=0\n",
    "axis=axis.flatten()\n",
    "\n",
    "for col,values in data.items():\n",
    "    sns.boxplot(y=col,data=df,color='b',ax=axis[index])\n",
    "    index+=1\n",
    "plt.tight_layout(pad=0.5,w_pad=0.7,h_pad=5.0)"
   ]
  },
  {
   "cell_type": "markdown",
   "id": "d735ed62",
   "metadata": {},
   "source": [
    "### Counting the instances of each class"
   ]
  },
  {
   "cell_type": "code",
   "execution_count": 139,
   "id": "1b6e3599",
   "metadata": {},
   "outputs": [
    {
     "data": {
      "text/plain": [
       "5    681\n",
       "6    638\n",
       "7    217\n",
       "4     53\n",
       "3     10\n",
       "Name: quality, dtype: int64"
      ]
     },
     "execution_count": 139,
     "metadata": {},
     "output_type": "execute_result"
    }
   ],
   "source": [
    "data['quality'].value_counts() #Checking for the frequency of each wine quality"
   ]
  },
  {
   "cell_type": "markdown",
   "id": "09e74e09",
   "metadata": {},
   "source": [
    "### Convert to a Classification Problem"
   ]
  },
  {
   "cell_type": "raw",
   "id": "fcb4256b-580f-4cfc-a903-0e0d98f4d7bb",
   "metadata": {},
   "source": [
    "To convert to a classification problem, we set our qulaity threshold to 7, anything abobe that will be classifies as good quality, everything below as poor quality"
   ]
  },
  {
   "cell_type": "code",
   "execution_count": 140,
   "id": "30eb6b7a",
   "metadata": {},
   "outputs": [
    {
     "data": {
      "text/html": [
       "<div>\n",
       "<style scoped>\n",
       "    .dataframe tbody tr th:only-of-type {\n",
       "        vertical-align: middle;\n",
       "    }\n",
       "\n",
       "    .dataframe tbody tr th {\n",
       "        vertical-align: top;\n",
       "    }\n",
       "\n",
       "    .dataframe thead th {\n",
       "        text-align: right;\n",
       "    }\n",
       "</style>\n",
       "<table border=\"1\" class=\"dataframe\">\n",
       "  <thead>\n",
       "    <tr style=\"text-align: right;\">\n",
       "      <th></th>\n",
       "      <th>fixed acidity</th>\n",
       "      <th>volatile acidity</th>\n",
       "      <th>citric acid</th>\n",
       "      <th>residual sugar</th>\n",
       "      <th>chlorides</th>\n",
       "      <th>free sulfur dioxide</th>\n",
       "      <th>total sulfur dioxide</th>\n",
       "      <th>density</th>\n",
       "      <th>pH</th>\n",
       "      <th>sulphates</th>\n",
       "      <th>alcohol</th>\n",
       "      <th>quality</th>\n",
       "      <th>good_quality</th>\n",
       "    </tr>\n",
       "  </thead>\n",
       "  <tbody>\n",
       "    <tr>\n",
       "      <th>0</th>\n",
       "      <td>7.4</td>\n",
       "      <td>0.70</td>\n",
       "      <td>0.00</td>\n",
       "      <td>1.90</td>\n",
       "      <td>0.076</td>\n",
       "      <td>11.0</td>\n",
       "      <td>34.0</td>\n",
       "      <td>0.9978</td>\n",
       "      <td>3.51</td>\n",
       "      <td>0.56</td>\n",
       "      <td>9.4</td>\n",
       "      <td>5</td>\n",
       "      <td>no</td>\n",
       "    </tr>\n",
       "    <tr>\n",
       "      <th>1</th>\n",
       "      <td>7.8</td>\n",
       "      <td>0.88</td>\n",
       "      <td>0.00</td>\n",
       "      <td>2.60</td>\n",
       "      <td>0.098</td>\n",
       "      <td>25.0</td>\n",
       "      <td>67.0</td>\n",
       "      <td>0.9968</td>\n",
       "      <td>3.20</td>\n",
       "      <td>0.68</td>\n",
       "      <td>9.8</td>\n",
       "      <td>5</td>\n",
       "      <td>no</td>\n",
       "    </tr>\n",
       "    <tr>\n",
       "      <th>2</th>\n",
       "      <td>7.8</td>\n",
       "      <td>0.76</td>\n",
       "      <td>0.04</td>\n",
       "      <td>2.30</td>\n",
       "      <td>0.092</td>\n",
       "      <td>15.0</td>\n",
       "      <td>54.0</td>\n",
       "      <td>0.9970</td>\n",
       "      <td>3.26</td>\n",
       "      <td>0.65</td>\n",
       "      <td>9.8</td>\n",
       "      <td>5</td>\n",
       "      <td>no</td>\n",
       "    </tr>\n",
       "    <tr>\n",
       "      <th>3</th>\n",
       "      <td>11.2</td>\n",
       "      <td>0.28</td>\n",
       "      <td>0.56</td>\n",
       "      <td>1.90</td>\n",
       "      <td>0.075</td>\n",
       "      <td>17.0</td>\n",
       "      <td>60.0</td>\n",
       "      <td>0.9980</td>\n",
       "      <td>3.16</td>\n",
       "      <td>0.58</td>\n",
       "      <td>9.8</td>\n",
       "      <td>6</td>\n",
       "      <td>no</td>\n",
       "    </tr>\n",
       "    <tr>\n",
       "      <th>4</th>\n",
       "      <td>7.4</td>\n",
       "      <td>0.70</td>\n",
       "      <td>0.00</td>\n",
       "      <td>1.90</td>\n",
       "      <td>0.076</td>\n",
       "      <td>11.0</td>\n",
       "      <td>34.0</td>\n",
       "      <td>0.9978</td>\n",
       "      <td>3.51</td>\n",
       "      <td>0.56</td>\n",
       "      <td>9.4</td>\n",
       "      <td>5</td>\n",
       "      <td>no</td>\n",
       "    </tr>\n",
       "    <tr>\n",
       "      <th>5</th>\n",
       "      <td>7.4</td>\n",
       "      <td>0.66</td>\n",
       "      <td>0.00</td>\n",
       "      <td>1.80</td>\n",
       "      <td>0.075</td>\n",
       "      <td>13.0</td>\n",
       "      <td>40.0</td>\n",
       "      <td>0.9978</td>\n",
       "      <td>3.51</td>\n",
       "      <td>0.56</td>\n",
       "      <td>9.4</td>\n",
       "      <td>5</td>\n",
       "      <td>no</td>\n",
       "    </tr>\n",
       "    <tr>\n",
       "      <th>6</th>\n",
       "      <td>7.9</td>\n",
       "      <td>0.60</td>\n",
       "      <td>0.06</td>\n",
       "      <td>1.60</td>\n",
       "      <td>0.069</td>\n",
       "      <td>15.0</td>\n",
       "      <td>59.0</td>\n",
       "      <td>0.9964</td>\n",
       "      <td>3.30</td>\n",
       "      <td>0.46</td>\n",
       "      <td>9.4</td>\n",
       "      <td>5</td>\n",
       "      <td>no</td>\n",
       "    </tr>\n",
       "    <tr>\n",
       "      <th>7</th>\n",
       "      <td>7.3</td>\n",
       "      <td>0.65</td>\n",
       "      <td>0.00</td>\n",
       "      <td>1.20</td>\n",
       "      <td>0.065</td>\n",
       "      <td>15.0</td>\n",
       "      <td>21.0</td>\n",
       "      <td>0.9946</td>\n",
       "      <td>3.39</td>\n",
       "      <td>0.47</td>\n",
       "      <td>10.0</td>\n",
       "      <td>7</td>\n",
       "      <td>yes</td>\n",
       "    </tr>\n",
       "    <tr>\n",
       "      <th>8</th>\n",
       "      <td>7.8</td>\n",
       "      <td>0.58</td>\n",
       "      <td>0.02</td>\n",
       "      <td>2.00</td>\n",
       "      <td>0.073</td>\n",
       "      <td>9.0</td>\n",
       "      <td>18.0</td>\n",
       "      <td>0.9968</td>\n",
       "      <td>3.36</td>\n",
       "      <td>0.57</td>\n",
       "      <td>9.5</td>\n",
       "      <td>7</td>\n",
       "      <td>yes</td>\n",
       "    </tr>\n",
       "    <tr>\n",
       "      <th>9</th>\n",
       "      <td>7.5</td>\n",
       "      <td>0.50</td>\n",
       "      <td>0.36</td>\n",
       "      <td>3.65</td>\n",
       "      <td>0.071</td>\n",
       "      <td>17.0</td>\n",
       "      <td>102.0</td>\n",
       "      <td>0.9978</td>\n",
       "      <td>3.35</td>\n",
       "      <td>0.80</td>\n",
       "      <td>10.5</td>\n",
       "      <td>5</td>\n",
       "      <td>no</td>\n",
       "    </tr>\n",
       "  </tbody>\n",
       "</table>\n",
       "</div>"
      ],
      "text/plain": [
       "   fixed acidity  volatile acidity  citric acid  residual sugar  chlorides  \\\n",
       "0            7.4              0.70         0.00            1.90      0.076   \n",
       "1            7.8              0.88         0.00            2.60      0.098   \n",
       "2            7.8              0.76         0.04            2.30      0.092   \n",
       "3           11.2              0.28         0.56            1.90      0.075   \n",
       "4            7.4              0.70         0.00            1.90      0.076   \n",
       "5            7.4              0.66         0.00            1.80      0.075   \n",
       "6            7.9              0.60         0.06            1.60      0.069   \n",
       "7            7.3              0.65         0.00            1.20      0.065   \n",
       "8            7.8              0.58         0.02            2.00      0.073   \n",
       "9            7.5              0.50         0.36            3.65      0.071   \n",
       "\n",
       "   free sulfur dioxide  total sulfur dioxide  density    pH  sulphates  \\\n",
       "0                 11.0                  34.0   0.9978  3.51       0.56   \n",
       "1                 25.0                  67.0   0.9968  3.20       0.68   \n",
       "2                 15.0                  54.0   0.9970  3.26       0.65   \n",
       "3                 17.0                  60.0   0.9980  3.16       0.58   \n",
       "4                 11.0                  34.0   0.9978  3.51       0.56   \n",
       "5                 13.0                  40.0   0.9978  3.51       0.56   \n",
       "6                 15.0                  59.0   0.9964  3.30       0.46   \n",
       "7                 15.0                  21.0   0.9946  3.39       0.47   \n",
       "8                  9.0                  18.0   0.9968  3.36       0.57   \n",
       "9                 17.0                 102.0   0.9978  3.35       0.80   \n",
       "\n",
       "   alcohol  quality good_quality  \n",
       "0      9.4        5           no  \n",
       "1      9.8        5           no  \n",
       "2      9.8        5           no  \n",
       "3      9.8        6           no  \n",
       "4      9.4        5           no  \n",
       "5      9.4        5           no  \n",
       "6      9.4        5           no  \n",
       "7     10.0        7          yes  \n",
       "8      9.5        7          yes  \n",
       "9     10.5        5           no  "
      ]
     },
     "execution_count": 140,
     "metadata": {},
     "output_type": "execute_result"
    }
   ],
   "source": [
    "data['good_quality']=[\"yes\" if x>=7 else 'no' for x in data['quality']]\n",
    "data.head(10)"
   ]
  },
  {
   "cell_type": "markdown",
   "id": "26daa11a-1ee2-47b3-9c36-eafc1a1d4692",
   "metadata": {},
   "source": [
    "### Label encoding the target variable"
   ]
  },
  {
   "cell_type": "raw",
   "id": "06471d52-1e66-449e-ae86-9c209f8bb96f",
   "metadata": {},
   "source": [
    "Since the data is categorized as good and bad, we need to convert to ordinal categorical value."
   ]
  },
  {
   "cell_type": "code",
   "execution_count": 162,
   "id": "bf395ef0",
   "metadata": {},
   "outputs": [],
   "source": [
    "from sklearn.preprocessing import LabelEncoder\n",
    "le = LabelEncoder()\n",
    "data['good_quality']=le.fit_transform(data['good_quality'])"
   ]
  },
  {
   "cell_type": "code",
   "execution_count": 163,
   "id": "47711c09",
   "metadata": {},
   "outputs": [
    {
     "data": {
      "text/plain": [
       "0    1382\n",
       "1     217\n",
       "Name: good_quality, dtype: int64"
      ]
     },
     "execution_count": 163,
     "metadata": {},
     "output_type": "execute_result"
    }
   ],
   "source": [
    "data['good_quality'].value_counts() #Checking the proportion of yes to no in good_quality"
   ]
  },
  {
   "cell_type": "code",
   "execution_count": 164,
   "id": "1efa6220",
   "metadata": {},
   "outputs": [],
   "source": [
    "X=data.drop(['quality','good_quality'],axis=1)\n",
    "y=data['good_quality']"
   ]
  },
  {
   "cell_type": "markdown",
   "id": "d10b4f70-b9fa-4654-8a78-a98e2e9f9530",
   "metadata": {},
   "source": [
    "## Resampling"
   ]
  },
  {
   "cell_type": "raw",
   "id": "f868a148-276a-4a3b-9531-66e21d6857ef",
   "metadata": {},
   "source": [
    "Since the data is mostly conataing a no value for good_quality, we resample it so that both the categories are in equal proportion\n",
    "The resultant will contain 2*217 rows"
   ]
  },
  {
   "cell_type": "code",
   "execution_count": 165,
   "id": "9a4c8e2a",
   "metadata": {},
   "outputs": [],
   "source": [
    "#UNDERSAMPLING\n",
    "# good_wine = data[data['good_quality']=='yes']\n",
    "# bad_wine = data[data['good_quality']=='no']\n",
    "\n",
    "# bad_wine = bad_wine.sample(frac=1)\n",
    "# bad_wine = bad_wine[:217]\n",
    "\n",
    "# new_data = pd.concat([good_wine,bad_wine])\n",
    "# new_data = new_data.sample(frac=1)\n",
    "# new_data"
   ]
  },
  {
   "cell_type": "markdown",
   "id": "da614d02-f4b5-4824-a40e-6a671f6c4d6e",
   "metadata": {},
   "source": [
    "## Oversampling"
   ]
  },
  {
   "cell_type": "code",
   "execution_count": 166,
   "id": "e48e181f-95d0-48f2-be01-cdbb4e22d5fa",
   "metadata": {},
   "outputs": [],
   "source": [
    "from imblearn.over_sampling import SMOTE"
   ]
  },
  {
   "cell_type": "code",
   "execution_count": 167,
   "id": "72f35977",
   "metadata": {},
   "outputs": [
    {
     "data": {
      "text/plain": [
       "0    1382\n",
       "1    1382\n",
       "Name: good_quality, dtype: int64"
      ]
     },
     "execution_count": 167,
     "metadata": {},
     "output_type": "execute_result"
    }
   ],
   "source": [
    "X,y = SMOTE().fit_resample(X,y)\n",
    "y.value_counts()"
   ]
  },
  {
   "cell_type": "markdown",
   "id": "20b794a5-31a2-450f-ac74-24d169c4f4bf",
   "metadata": {},
   "source": [
    "# 5. Splitting Data"
   ]
  },
  {
   "cell_type": "code",
   "execution_count": 168,
   "id": "023cc8c7",
   "metadata": {},
   "outputs": [],
   "source": [
    "from sklearn.model_selection import train_test_split\n",
    "\n",
    "X_train, X_test, y_train, y_test = train_test_split(X, y, test_size=0.2, random_state=101)"
   ]
  },
  {
   "cell_type": "markdown",
   "id": "4d7345ab-b81b-4a41-a226-70ac89ee0b23",
   "metadata": {},
   "source": [
    "### Scaling independent variables"
   ]
  },
  {
   "cell_type": "code",
   "execution_count": 169,
   "id": "8f772556",
   "metadata": {},
   "outputs": [],
   "source": [
    "from sklearn.preprocessing import StandardScaler\n",
    "\n",
    "sc=StandardScaler()\n",
    "sc.fit(X_train)\n",
    "X_train=sc.fit_transform(X_train)\n",
    "X_test=sc.transform(X_test)"
   ]
  },
  {
   "cell_type": "markdown",
   "id": "d5c74766",
   "metadata": {},
   "source": [
    "## Applying PCA"
   ]
  },
  {
   "cell_type": "code",
   "execution_count": 170,
   "id": "353780a2",
   "metadata": {},
   "outputs": [],
   "source": [
    "from sklearn.decomposition import PCA\n",
    "pca=PCA(n_components=9)\n",
    "X_train=pca.fit_transform(X_train)"
   ]
  },
  {
   "cell_type": "code",
   "execution_count": 171,
   "id": "719a7585",
   "metadata": {},
   "outputs": [],
   "source": [
    "X_test=pca.transform(X_test)"
   ]
  },
  {
   "cell_type": "code",
   "execution_count": 172,
   "id": "fe2c7095",
   "metadata": {},
   "outputs": [
    {
     "data": {
      "text/plain": [
       "(2211, 9)"
      ]
     },
     "execution_count": 172,
     "metadata": {},
     "output_type": "execute_result"
    }
   ],
   "source": [
    "X_train.shape"
   ]
  },
  {
   "cell_type": "markdown",
   "id": "075dc056-a088-4c0d-97b0-469cf11f3b47",
   "metadata": {},
   "source": [
    "## Feature Importance"
   ]
  },
  {
   "cell_type": "code",
   "execution_count": 173,
   "id": "18c1ed7b",
   "metadata": {},
   "outputs": [
    {
     "name": "stdout",
     "output_type": "stream",
     "text": [
      "[0.10487541 0.34418865 0.09718791 0.08779263 0.07027882 0.06385876\n",
      " 0.07292888 0.07331893 0.08557001]\n"
     ]
    }
   ],
   "source": [
    "from sklearn.linear_model import LogisticRegression\n",
    "model = LogisticRegression()\n",
    "\n",
    "from sklearn.ensemble import ExtraTreesClassifier\n",
    "classifiern = ExtraTreesClassifier()\n",
    "classifiern.fit(X_train,y_train)\n",
    "score = classifiern.feature_importances_\n",
    "print(score)"
   ]
  },
  {
   "cell_type": "markdown",
   "id": "d57096cb-baee-45b0-8f30-45733ed1564b",
   "metadata": {},
   "source": [
    "## 3.1 Logistic Regression "
   ]
  },
  {
   "cell_type": "code",
   "execution_count": 185,
   "id": "3f23bb3f",
   "metadata": {},
   "outputs": [
    {
     "name": "stdout",
     "output_type": "stream",
     "text": [
      "Accuracy Score: 0.8047016274864376\n"
     ]
    }
   ],
   "source": [
    "from sklearn.linear_model import LogisticRegression\n",
    "model1 = LogisticRegression()\n",
    "model1.fit(X_train,y_train)\n",
    "y_pred1 = model1.predict(X_test)\n",
    "\n",
    "from sklearn.metrics import accuracy_score\n",
    "acc_score1=accuracy_score(y_test,y_pred1)\n",
    "print(\"Accuracy Score:\",acc_score1)"
   ]
  },
  {
   "cell_type": "markdown",
   "id": "087e9ea8-7a3b-47ca-9117-11bc83cef64b",
   "metadata": {},
   "source": [
    "## 3.2 KNN"
   ]
  },
  {
   "cell_type": "code",
   "execution_count": 186,
   "id": "0f5b07a1",
   "metadata": {},
   "outputs": [
    {
     "name": "stdout",
     "output_type": "stream",
     "text": [
      "Accuracy Score: 0.9005424954792043\n"
     ]
    }
   ],
   "source": [
    "from sklearn.neighbors import KNeighborsClassifier\n",
    "model2 = KNeighborsClassifier(n_neighbors=3)\n",
    "model2.fit(X_train,y_train)\n",
    "y_pred2 = model2.predict(X_test)\n",
    "\n",
    "acc_score2=accuracy_score(y_test,y_pred2)\n",
    "print(\"Accuracy Score:\",acc_score2)"
   ]
  },
  {
   "cell_type": "markdown",
   "id": "5c9dda60-d5fe-401b-9da0-37a5aedaeaab",
   "metadata": {},
   "source": [
    "## 3.3 Decision Tree"
   ]
  },
  {
   "cell_type": "code",
   "execution_count": 187,
   "id": "c20f0f6e",
   "metadata": {},
   "outputs": [
    {
     "name": "stdout",
     "output_type": "stream",
     "text": [
      "Accuracy Score: 0.9041591320072333\n"
     ]
    }
   ],
   "source": [
    "from sklearn.tree import DecisionTreeClassifier\n",
    "model3 = DecisionTreeClassifier(criterion='entropy',random_state=7)\n",
    "model3.fit(X_train,y_train)\n",
    "y_pred3 = model3.predict(X_test)\n",
    "\n",
    "acc_score3=accuracy_score(y_test,y_pred3)\n",
    "print(\"Accuracy Score:\",acc_score3)"
   ]
  },
  {
   "cell_type": "markdown",
   "id": "0b809f13-3039-48a9-966e-2d99f7391d77",
   "metadata": {},
   "source": [
    "## 3.4 Random Forest"
   ]
  },
  {
   "cell_type": "code",
   "execution_count": 188,
   "id": "4005bc8b",
   "metadata": {},
   "outputs": [
    {
     "name": "stdout",
     "output_type": "stream",
     "text": [
      "Accuracy Score: 0.9312839059674503\n"
     ]
    }
   ],
   "source": [
    "from sklearn.ensemble import RandomForestClassifier\n",
    "model4 = RandomForestClassifier(random_state=1)\n",
    "model4.fit(X_train, y_train)\n",
    "y_pred4 = model4.predict(X_test)\n",
    "\n",
    "acc_score4=accuracy_score(y_test,y_pred4)\n",
    "print(\"Accuracy Score:\",acc_score4)"
   ]
  },
  {
   "cell_type": "markdown",
   "id": "08b435de-9968-4bc9-b6d4-2f394b3add74",
   "metadata": {},
   "source": [
    "## 3.5 XGBoost"
   ]
  },
  {
   "cell_type": "code",
   "execution_count": 189,
   "id": "d3a574c1",
   "metadata": {},
   "outputs": [
    {
     "name": "stdout",
     "output_type": "stream",
     "text": [
      "Accuracy Score: 0.9349005424954792\n"
     ]
    }
   ],
   "source": [
    "import xgboost as xgb\n",
    "model5 = xgb.XGBClassifier(random_state=1)\n",
    "model5.fit(X_train, y_train)\n",
    "y_pred5 = model5.predict(X_test)\n",
    "\n",
    "acc_score5=accuracy_score(y_test,y_pred5)\n",
    "print(\"Accuracy Score:\",acc_score5)"
   ]
  },
  {
   "cell_type": "raw",
   "id": "ca6d133d-18aa-4f5a-ab1a-ae3e02745eb5",
   "metadata": {},
   "source": [
    "XGBoost gives the best accuracy score"
   ]
  },
  {
   "cell_type": "markdown",
   "id": "4a422b77",
   "metadata": {},
   "source": [
    "# Cross Validation"
   ]
  },
  {
   "cell_type": "code",
   "execution_count": 178,
   "id": "1cce662d",
   "metadata": {},
   "outputs": [],
   "source": [
    "from sklearn.model_selection import cross_val_score"
   ]
  },
  {
   "cell_type": "code",
   "execution_count": 191,
   "id": "23677502",
   "metadata": {},
   "outputs": [
    {
     "name": "stdout",
     "output_type": "stream",
     "text": [
      "Mean Score: 82.27 %\n"
     ]
    }
   ],
   "source": [
    "LR_score=cross_val_score(model1,X_train,y_train,cv=10)\n",
    "cv_score1=LR_score.mean().round(5)*100\n",
    "print(\"Mean Score:\",cv_score1,'%')"
   ]
  },
  {
   "cell_type": "code",
   "execution_count": 192,
   "id": "c259e2c0",
   "metadata": {},
   "outputs": [
    {
     "name": "stdout",
     "output_type": "stream",
     "text": [
      "Mean Score: 90.096 %\n"
     ]
    }
   ],
   "source": [
    "KNN_score=cross_val_score(model2,X_train,y_train,cv=10)\n",
    "cv_score2=KNN_score.mean().round(5)*100\n",
    "print(\"Mean Score:\",cv_score2,'%')"
   ]
  },
  {
   "cell_type": "code",
   "execution_count": 193,
   "id": "908c7eb1",
   "metadata": {},
   "outputs": [
    {
     "name": "stdout",
     "output_type": "stream",
     "text": [
      "Mean Score: 88.919 %\n"
     ]
    }
   ],
   "source": [
    "DT_score=cross_val_score(model3,X_train,y_train,cv=10)\n",
    "cv_score3=DT_score.mean().round(5)*100\n",
    "print(\"Mean Score:\",cv_score3,'%')"
   ]
  },
  {
   "cell_type": "code",
   "execution_count": 194,
   "id": "4d7a1903",
   "metadata": {},
   "outputs": [
    {
     "name": "stdout",
     "output_type": "stream",
     "text": [
      "Mean Score: 94.03 %\n"
     ]
    }
   ],
   "source": [
    "RF_score=cross_val_score(model4,X_train,y_train,cv=10)\n",
    "cv_score4=RF_score.mean().round(5)*100\n",
    "print(\"Mean Score:\",cv_score4,'%')"
   ]
  },
  {
   "cell_type": "code",
   "execution_count": 195,
   "id": "56181982",
   "metadata": {},
   "outputs": [
    {
     "name": "stdout",
     "output_type": "stream",
     "text": [
      "Mean Score: 94.301 %\n"
     ]
    }
   ],
   "source": [
    "XGB_score=cross_val_score(model5,X_train,y_train,cv=10)\n",
    "cv_score5=XGB_score.mean().round(5)*100\n",
    "print(\"Mean Score:\",cv_score5,'%')"
   ]
  },
  {
   "cell_type": "code",
   "execution_count": 198,
   "id": "b35437e1",
   "metadata": {},
   "outputs": [],
   "source": [
    "result=pd.DataFrame([{'Algortihm':\"LR\", 'Accuracy Score':acc_score1,'Cross Validation Score (%)':cv_score1},\n",
    "                     {'Algortihm':\"KNN\", 'Accuracy Score':acc_score2,'Cross Validation Score (%)':cv_score2},\n",
    "                     {'Algortihm':\"DT\", 'Accuracy Score':acc_score3,'Cross Validation Score (%)':cv_score3},\n",
    "                     {'Algortihm':\"RF\", 'Accuracy Score':acc_score4,'Cross Validation Score (%)':cv_score4},\n",
    "                     {'Algortihm':\"XGB\", 'Accuracy Score':acc_score2,'Cross Validation Score (%)':cv_score5}])"
   ]
  },
  {
   "cell_type": "code",
   "execution_count": 199,
   "id": "6e43ef94",
   "metadata": {},
   "outputs": [
    {
     "data": {
      "text/html": [
       "<div>\n",
       "<style scoped>\n",
       "    .dataframe tbody tr th:only-of-type {\n",
       "        vertical-align: middle;\n",
       "    }\n",
       "\n",
       "    .dataframe tbody tr th {\n",
       "        vertical-align: top;\n",
       "    }\n",
       "\n",
       "    .dataframe thead th {\n",
       "        text-align: right;\n",
       "    }\n",
       "</style>\n",
       "<table border=\"1\" class=\"dataframe\">\n",
       "  <thead>\n",
       "    <tr style=\"text-align: right;\">\n",
       "      <th></th>\n",
       "      <th>Algortihm</th>\n",
       "      <th>Accuracy Score</th>\n",
       "      <th>Cross Validation Score (%)</th>\n",
       "    </tr>\n",
       "  </thead>\n",
       "  <tbody>\n",
       "    <tr>\n",
       "      <th>0</th>\n",
       "      <td>LR</td>\n",
       "      <td>0.804702</td>\n",
       "      <td>82.270</td>\n",
       "    </tr>\n",
       "    <tr>\n",
       "      <th>1</th>\n",
       "      <td>KNN</td>\n",
       "      <td>0.900542</td>\n",
       "      <td>90.096</td>\n",
       "    </tr>\n",
       "    <tr>\n",
       "      <th>2</th>\n",
       "      <td>DT</td>\n",
       "      <td>0.904159</td>\n",
       "      <td>88.919</td>\n",
       "    </tr>\n",
       "    <tr>\n",
       "      <th>3</th>\n",
       "      <td>RF</td>\n",
       "      <td>0.931284</td>\n",
       "      <td>94.030</td>\n",
       "    </tr>\n",
       "    <tr>\n",
       "      <th>4</th>\n",
       "      <td>XGB</td>\n",
       "      <td>0.900542</td>\n",
       "      <td>94.301</td>\n",
       "    </tr>\n",
       "  </tbody>\n",
       "</table>\n",
       "</div>"
      ],
      "text/plain": [
       "  Algortihm  Accuracy Score  Cross Validation Score (%)\n",
       "0        LR        0.804702                      82.270\n",
       "1       KNN        0.900542                      90.096\n",
       "2        DT        0.904159                      88.919\n",
       "3        RF        0.931284                      94.030\n",
       "4       XGB        0.900542                      94.301"
      ]
     },
     "execution_count": 199,
     "metadata": {},
     "output_type": "execute_result"
    }
   ],
   "source": [
    "result"
   ]
  },
  {
   "cell_type": "code",
   "execution_count": 221,
   "id": "148cd923",
   "metadata": {},
   "outputs": [],
   "source": [
    "# Define a function that compares the CV perfromance of a set of predetrmined models \n",
    "def cv_comparison(models, X, y, cv):\n",
    "    # Initiate a DataFrame for the averages and a list for all measures\n",
    "    cv_accuracies = pd.DataFrame()\n",
    "    maes = []\n",
    "    mses = []\n",
    "    r2s = []\n",
    "    accs = []\n",
    "    # Loop through the models, run a CV, add the average scores to the DataFrame and the scores of \n",
    "    # all CVs to the list\n",
    "    for model in models:\n",
    "        mae = -np.round(cross_val_score(model, X, y, scoring='neg_mean_absolute_error', cv=cv),5)\n",
    "        maes.append(mae)\n",
    "        mae_avg = round(mae.mean(),5)\n",
    "        mse = -np.round(cross_val_score(model, X, y, scoring='neg_mean_squared_error', cv=cv),5)\n",
    "        mses.append(mse)\n",
    "        mse_avg = round(mse.mean(),5)\n",
    "        r2 = np.round(cross_val_score(model, X, y, scoring='r2', cv=cv), 5)\n",
    "        r2s.append(r2)\n",
    "        r2_avg = round(r2.mean(), 5)\n",
    "        acc = np.round((100 - (100 * (mae * len(X))) / sum(y)), 5)\n",
    "        accs.append(acc)\n",
    "        acc_avg = round(acc.mean(), 5)\n",
    "        cv_accuracies[str(model)] = [mae_avg, mse_avg, r2_avg, acc_avg]\n",
    "    cv_accuracies.index = ['Mean Absolute Error', 'Mean Squared Error', 'R^2', 'Accuracy']\n",
    "    return cv_accuracies, maes, mses, r2s, accs"
   ]
  },
  {
   "cell_type": "code",
   "execution_count": 222,
   "id": "5acda818",
   "metadata": {},
   "outputs": [],
   "source": [
    "models=[model1,model2,model3,model4,model5]\n",
    "comp,maes,mses,r2s,accs=cv_comparison(models,X_train,y_train,10)"
   ]
  },
  {
   "cell_type": "code",
   "execution_count": 220,
   "id": "b4566c13",
   "metadata": {},
   "outputs": [
    {
     "data": {
      "text/html": [
       "<div>\n",
       "<style scoped>\n",
       "    .dataframe tbody tr th:only-of-type {\n",
       "        vertical-align: middle;\n",
       "    }\n",
       "\n",
       "    .dataframe tbody tr th {\n",
       "        vertical-align: top;\n",
       "    }\n",
       "\n",
       "    .dataframe thead th {\n",
       "        text-align: right;\n",
       "    }\n",
       "</style>\n",
       "<table border=\"1\" class=\"dataframe\">\n",
       "  <thead>\n",
       "    <tr style=\"text-align: right;\">\n",
       "      <th></th>\n",
       "      <th>LogisticRegression()</th>\n",
       "      <th>KNeighborsClassifier(n_neighbors=3)</th>\n",
       "      <th>DecisionTreeClassifier(criterion='entropy', random_state=7)</th>\n",
       "      <th>RandomForestClassifier(random_state=1)</th>\n",
       "      <th>XGBClassifier(base_score=0.5, booster='gbtree', callbacks=None,\\n              colsample_bylevel=1, colsample_bynode=1, colsample_bytree=1,\\n              early_stopping_rounds=None, enable_categorical=False,\\n              eval_metric=None, gamma=0, gpu_id=-1, grow_policy='depthwise',\\n              importance_type=None, interaction_constraints='',\\n              learning_rate=0.300000012, max_bin=256, max_cat_to_onehot=4,\\n              max_delta_step=0, max_depth=6, max_leaves=0, min_child_weight=1,\\n              missing=nan, monotone_constraints='()', n_estimators=100,\\n              n_jobs=0, num_parallel_tree=1, predictor='auto', random_state=1,\\n              reg_alpha=0, reg_lambda=1, ...)</th>\n",
       "    </tr>\n",
       "  </thead>\n",
       "  <tbody>\n",
       "    <tr>\n",
       "      <th>Mean Absolute Error</th>\n",
       "      <td>0.17730</td>\n",
       "      <td>0.09904</td>\n",
       "      <td>0.11081</td>\n",
       "      <td>0.05970</td>\n",
       "      <td>0.05699</td>\n",
       "    </tr>\n",
       "    <tr>\n",
       "      <th>Mean Squared Error</th>\n",
       "      <td>0.17730</td>\n",
       "      <td>0.09904</td>\n",
       "      <td>0.11081</td>\n",
       "      <td>0.05970</td>\n",
       "      <td>0.05699</td>\n",
       "    </tr>\n",
       "    <tr>\n",
       "      <th>R^2</th>\n",
       "      <td>0.29079</td>\n",
       "      <td>0.60382</td>\n",
       "      <td>0.55676</td>\n",
       "      <td>0.76119</td>\n",
       "      <td>0.77203</td>\n",
       "    </tr>\n",
       "    <tr>\n",
       "      <th>Accuracy</th>\n",
       "      <td>64.45943</td>\n",
       "      <td>80.14630</td>\n",
       "      <td>77.78817</td>\n",
       "      <td>88.03294</td>\n",
       "      <td>88.57617</td>\n",
       "    </tr>\n",
       "  </tbody>\n",
       "</table>\n",
       "</div>"
      ],
      "text/plain": [
       "                     LogisticRegression()  \\\n",
       "Mean Absolute Error               0.17730   \n",
       "Mean Squared Error                0.17730   \n",
       "R^2                               0.29079   \n",
       "Accuracy                         64.45943   \n",
       "\n",
       "                     KNeighborsClassifier(n_neighbors=3)  \\\n",
       "Mean Absolute Error                              0.09904   \n",
       "Mean Squared Error                               0.09904   \n",
       "R^2                                              0.60382   \n",
       "Accuracy                                        80.14630   \n",
       "\n",
       "                     DecisionTreeClassifier(criterion='entropy', random_state=7)  \\\n",
       "Mean Absolute Error                                            0.11081             \n",
       "Mean Squared Error                                             0.11081             \n",
       "R^2                                                            0.55676             \n",
       "Accuracy                                                      77.78817             \n",
       "\n",
       "                     RandomForestClassifier(random_state=1)  \\\n",
       "Mean Absolute Error                                 0.05970   \n",
       "Mean Squared Error                                  0.05970   \n",
       "R^2                                                 0.76119   \n",
       "Accuracy                                           88.03294   \n",
       "\n",
       "                     XGBClassifier(base_score=0.5, booster='gbtree', callbacks=None,\\n              colsample_bylevel=1, colsample_bynode=1, colsample_bytree=1,\\n              early_stopping_rounds=None, enable_categorical=False,\\n              eval_metric=None, gamma=0, gpu_id=-1, grow_policy='depthwise',\\n              importance_type=None, interaction_constraints='',\\n              learning_rate=0.300000012, max_bin=256, max_cat_to_onehot=4,\\n              max_delta_step=0, max_depth=6, max_leaves=0, min_child_weight=1,\\n              missing=nan, monotone_constraints='()', n_estimators=100,\\n              n_jobs=0, num_parallel_tree=1, predictor='auto', random_state=1,\\n              reg_alpha=0, reg_lambda=1, ...)  \n",
       "Mean Absolute Error                                            0.05699                                                                                                                                                                                                                                                                                                                                                                                                                                                                                                                                                                                                                                                                                    \n",
       "Mean Squared Error                                             0.05699                                                                                                                                                                                                                                                                                                                                                                                                                                                                                                                                                                                                                                                                                    \n",
       "R^2                                                            0.77203                                                                                                                                                                                                                                                                                                                                                                                                                                                                                                                                                                                                                                                                                    \n",
       "Accuracy                                                      88.57617                                                                                                                                                                                                                                                                                                                                                                                                                                                                                                                                                                                                                                                                                    "
      ]
     },
     "execution_count": 220,
     "metadata": {},
     "output_type": "execute_result"
    }
   ],
   "source": [
    "comp"
   ]
  },
  {
   "cell_type": "code",
   "execution_count": null,
   "id": "620c5b33",
   "metadata": {},
   "outputs": [],
   "source": []
  }
 ],
 "metadata": {
  "kernelspec": {
   "display_name": "Python 3",
   "language": "python",
   "name": "python3"
  },
  "language_info": {
   "codemirror_mode": {
    "name": "ipython",
    "version": 3
   },
   "file_extension": ".py",
   "mimetype": "text/x-python",
   "name": "python",
   "nbconvert_exporter": "python",
   "pygments_lexer": "ipython3",
   "version": "3.8.8"
  }
 },
 "nbformat": 4,
 "nbformat_minor": 5
}
